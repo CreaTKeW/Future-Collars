{
 "cells": [
  {
   "cell_type": "markdown",
   "id": "ce97f7cc-a140-4982-a912-07c01a8403af",
   "metadata": {},
   "source": [
    "## Zadanie 7.\n",
    "\n",
    "Stwórz abstrakcyjna klasę bazowa reperzentujaca zwierze.\n",
    "Konstruktor klasy będzie przyjmowac parametr reprezentujacy imię zwierzęcia.\n",
    "Klasa będzie miec 2 metody.\n",
    "Jedna metoda *daj_glos* będzie abstrakcyjna.\n",
    "Druga metoda *powitanie* będzie wyswietlac napis, składajacy się z wartosci zwracanej przez *daj_glos*, z wyswietlenia imienia zwierzęcia oraz z wyswietlenia jakiego typu (atrybut typ dla klasy) jest zwierze."
   ]
  },
  {
   "cell_type": "code",
   "execution_count": 1,
   "id": "75a0d616-1340-422e-a2d6-ee5c00763849",
   "metadata": {},
   "outputs": [],
   "source": [
    "from abc import ABC, abstractmethod, abstractproperty\n",
    "\n",
    "class Zwierze(ABC):\n",
    "    def __init__(self, imie, typ):\n",
    "        self.imie = imie\n",
    "        self.typ = typ\n",
    "    \n",
    "    @abstractmethod\n",
    "    def daj_glos(self):\n",
    "        pass\n",
    "\n",
    "    def powitanie(self):\n",
    "        glos = self.daj_glos()\n",
    "        print(f\"{glos} {self.imie} {self.typ}\")"
   ]
  },
  {
   "cell_type": "code",
   "execution_count": 5,
   "id": "5353bea3-c39d-4d6a-a9c4-4f6bce32b151",
   "metadata": {},
   "outputs": [
    {
     "name": "stdout",
     "output_type": "stream",
     "text": [
      "Hau Hau\n",
      "Hau Hau Reksio pies\n"
     ]
    }
   ],
   "source": [
    "class Pies(Zwierze):\n",
    "    def __init__(self, imie):\n",
    "        super().__init__(imie, \"pies\")\n",
    "\n",
    "    def daj_glos(self):\n",
    "        return \"Hau Hau\"\n",
    "\n",
    "reksio = Pies(\"Reksio\")\n",
    "print(reksio.daj_glos())\n",
    "reksio.powitanie()"
   ]
  }
 ],
 "metadata": {
  "kernelspec": {
   "display_name": "Python 3 (ipykernel)",
   "language": "python",
   "name": "python3"
  },
  "language_info": {
   "codemirror_mode": {
    "name": "ipython",
    "version": 3
   },
   "file_extension": ".py",
   "mimetype": "text/x-python",
   "name": "python",
   "nbconvert_exporter": "python",
   "pygments_lexer": "ipython3",
   "version": "3.12.9"
  }
 },
 "nbformat": 4,
 "nbformat_minor": 5
}
