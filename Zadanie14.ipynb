{
 "cells": [
  {
   "cell_type": "markdown",
   "id": "1da5818e-45a8-43d1-a081-c63eaa59bd44",
   "metadata": {},
   "source": [
    "## Zadanie 14.\n",
    "\n",
    "Napisz (przy pomocy rekurencji) funkcję realizujaca potęgowanie. Funkcja przyjmuje dwie liczby całkowite, będace podstawa i wykładnikiem potęgi."
   ]
  },
  {
   "cell_type": "code",
   "execution_count": 38,
   "id": "7d4d6477-9d14-4276-96ef-3a840f55382c",
   "metadata": {},
   "outputs": [
    {
     "name": "stdin",
     "output_type": "stream",
     "text": [
      "Podstawa potęgi:  2\n",
      "Wykładnik potęgi:  3\n"
     ]
    },
    {
     "name": "stdout",
     "output_type": "stream",
     "text": [
      "Wynik potęgowania: 8\n"
     ]
    }
   ],
   "source": [
    "base = int(input('Podstawa potęgi: '))\n",
    "exponent = int(input('Wykładnik potęgi: '))\n",
    "\n",
    "def exponentiation(base: int, exponent: int):\n",
    "    # Przypadek bazowy\n",
    "    if exponent == 0:\n",
    "        # Zwraca warunek bazowy i wykonywany jest Winding \n",
    "        return 1\n",
    "    else:\n",
    "        # Odwoływanie się do samej siebie i dekrementacja tzw. Unwiding\n",
    "        return base * exponentiation(base, exponent - 1)\n",
    "\n",
    "output = exponentiation(base, exponent)\n",
    "print(f\"Wynik potęgowania: {output}\")"
   ]
  },
  {
   "cell_type": "code",
   "execution_count": 30,
   "id": "01843728-5c30-483e-aa1f-e4c06df7d0cb",
   "metadata": {},
   "outputs": [],
   "source": [
    "# base = int(input('Podstawa potęgi: '))\n",
    "# exponent = int(input('Wykładnik potęgi: '))\n",
    "# result = base\n",
    "\n",
    "# for i in range(exponent - 1):\n",
    "#     if exponent < 1:\n",
    "#         break\n",
    "#     else:\n",
    "#         result *= base\n",
    "\n",
    "# print(result)"
   ]
  },
  {
   "cell_type": "code",
   "execution_count": null,
   "id": "52e8fba0-cd50-47a9-91a3-8566ddacbd2d",
   "metadata": {},
   "outputs": [],
   "source": []
  }
 ],
 "metadata": {
  "kernelspec": {
   "display_name": "Python 3 (ipykernel)",
   "language": "python",
   "name": "python3"
  },
  "language_info": {
   "codemirror_mode": {
    "name": "ipython",
    "version": 3
   },
   "file_extension": ".py",
   "mimetype": "text/x-python",
   "name": "python",
   "nbconvert_exporter": "python",
   "pygments_lexer": "ipython3",
   "version": "3.12.9"
  }
 },
 "nbformat": 4,
 "nbformat_minor": 5
}
