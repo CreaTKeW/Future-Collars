{
 "cells": [
  {
   "cell_type": "markdown",
   "id": "f0a08a1c-6dcc-4ad0-8ce7-93a7f8619559",
   "metadata": {},
   "source": [
    "## Zadanie 2.\n",
    "\n",
    "Napisz funkcję, która wypisze wszystkie liczby pierwsze mniejsze od liczby będącej argumentem funkcji."
   ]
  },
  {
   "cell_type": "code",
   "execution_count": 2,
   "id": "6c74aa7c-ce36-41d1-85ce-bfbddf945993",
   "metadata": {},
   "outputs": [
    {
     "name": "stdin",
     "output_type": "stream",
     "text": [
      "Podaj cyfrę:  250\n"
     ]
    },
    {
     "name": "stdout",
     "output_type": "stream",
     "text": [
      "Liczby pierwsze mniejsze od 250: [2, 3, 5, 7, 11, 13, 17, 19, 23, 29, 31, 37, 41, 43, 47, 53, 59, 61, 67, 71, 73, 79, 83, 89, 97, 101, 103, 107, 109, 113, 127, 131, 137, 139, 149, 151, 157, 163, 167, 173, 179, 181, 191, 193, 197, 199, 211, 223, 227, 229, 233, 239, 241]\n"
     ]
    }
   ],
   "source": [
    "def is_prime(n):\n",
    "    if n <= 1:\n",
    "        return False\n",
    "    for number in range(2, n):\n",
    "        if n % number == 0:\n",
    "            return False\n",
    "    return True\n",
    "\n",
    "number = int(input('Podaj cyfrę: '))\n",
    "prime_numbers = []\n",
    "for i in range(number):\n",
    "    if is_prime(i):\n",
    "        prime_numbers.append(i)\n",
    "print(f'Liczby pierwsze mniejsze od {number}: {prime_numbers}')"
   ]
  }
 ],
 "metadata": {
  "kernelspec": {
   "display_name": "Python 3 (ipykernel)",
   "language": "python",
   "name": "python3"
  },
  "language_info": {
   "codemirror_mode": {
    "name": "ipython",
    "version": 3
   },
   "file_extension": ".py",
   "mimetype": "text/x-python",
   "name": "python",
   "nbconvert_exporter": "python",
   "pygments_lexer": "ipython3",
   "version": "3.12.9"
  }
 },
 "nbformat": 4,
 "nbformat_minor": 5
}
