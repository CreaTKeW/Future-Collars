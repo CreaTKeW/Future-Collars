{
 "cells": [
  {
   "cell_type": "markdown",
   "id": "263ffbfd-1953-4c83-b4df-a2386928d482",
   "metadata": {},
   "source": [
    "## Zadanie 1 - Pamiętnik\n",
    "\n",
    "Stwórz klasę Pamiętnik, która zaimplementuje metody do odczytywania i dopisywania zawartości. Zawartość będzie przechowywana w pliku tekstowym."
   ]
  },
  {
   "cell_type": "code",
   "execution_count": 7,
   "id": "8dc4ad9a-df2f-4b70-a9b2-ee46c93109f5",
   "metadata": {},
   "outputs": [],
   "source": [
    "class Pamiętnik:\n",
    "    def __init__(self):\n",
    "        pass\n",
    "        \n",
    "    def save_data(self, content):\n",
    "        with open(\"pamiętnik.txt\", \"a\") as plik:\n",
    "            plik.write(f\"{content}\\n\")\n",
    "\n",
    "    def read_data(self):\n",
    "        with open(\"pamiętnik.txt\", \"r\") as plik:\n",
    "            print(plik.read())"
   ]
  },
  {
   "cell_type": "code",
   "execution_count": 8,
   "id": "1ef586da-d394-4f84-b06a-34357e80cbbd",
   "metadata": {},
   "outputs": [],
   "source": [
    "pamietnik = Pamiętnik()\n",
    "\n",
    "pamietnik.save_data(\"Hello\")\n",
    "pamietnik.save_data(\"World\")\n",
    "pamietnik.save_data(\"!\")"
   ]
  },
  {
   "cell_type": "code",
   "execution_count": 9,
   "id": "8296ece6-e066-4185-bae7-df09b530ffb1",
   "metadata": {},
   "outputs": [
    {
     "name": "stdout",
     "output_type": "stream",
     "text": [
      "Hello\n",
      "World\n",
      "!\n",
      "\n"
     ]
    }
   ],
   "source": [
    "pamietnik.read_data()"
   ]
  }
 ],
 "metadata": {
  "kernelspec": {
   "display_name": "Python 3 (ipykernel)",
   "language": "python",
   "name": "python3"
  },
  "language_info": {
   "codemirror_mode": {
    "name": "ipython",
    "version": 3
   },
   "file_extension": ".py",
   "mimetype": "text/x-python",
   "name": "python",
   "nbconvert_exporter": "python",
   "pygments_lexer": "ipython3",
   "version": "3.12.9"
  }
 },
 "nbformat": 4,
 "nbformat_minor": 5
}
