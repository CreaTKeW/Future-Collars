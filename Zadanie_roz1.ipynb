{
 "cells": [
  {
   "cell_type": "markdown",
   "id": "263ffbfd-1953-4c83-b4df-a2386928d482",
   "metadata": {},
   "source": [
    "## Zadanie 1 - Pamiętnik\n",
    "\n",
    "Stwórz klasę Pamiętnik, która zaimplementuje metody do odczytywania i dopisywania zawartości. Zawartość będzie przechowywana w pliku tekstowym."
   ]
  },
  {
   "cell_type": "code",
   "execution_count": 1,
   "id": "8dc4ad9a-df2f-4b70-a9b2-ee46c93109f5",
   "metadata": {},
   "outputs": [],
   "source": [
    "class Pamiętnik:\n",
    "    def __init__(self, nazwa):\n",
    "        self.nazwa = nazwa\n",
    "        \n",
    "    def save_data(self, content):\n",
    "        with open(f\"{self.nazwa}.txt\", \"a\", encoding=\"utf-8\") as plik:\n",
    "            plik.write(f\"{content}\\n\")\n",
    "\n",
    "    def read_data(self):\n",
    "        with open(f\"{self.nazwa}.txt\", \"r\", encoding=\"utf-8\") as plik:\n",
    "            print(plik.read())"
   ]
  },
  {
   "cell_type": "code",
   "execution_count": 2,
   "id": "1ef586da-d394-4f84-b06a-34357e80cbbd",
   "metadata": {},
   "outputs": [
    {
     "name": "stdout",
     "output_type": "stream",
     "text": [
      "Mój cudowny\n",
      "pamiętniczek!\n",
      "\n"
     ]
    }
   ],
   "source": [
    "cudowny_pamietnik = Pamiętnik(\"cudowny_pamiętniczek\")\n",
    "\n",
    "cudowny_pamietnik.save_data(\"Mój cudowny\")\n",
    "cudowny_pamietnik.save_data(\"pamiętniczek!\")\n",
    "cudowny_pamietnik.read_data()"
   ]
  },
  {
   "cell_type": "code",
   "execution_count": 3,
   "id": "c5ded500-92c1-40b6-8f86-03cf0565193a",
   "metadata": {},
   "outputs": [
    {
     "name": "stdout",
     "output_type": "stream",
     "text": [
      "Mój koszmarny\n",
      "pamiętniczek!\n",
      "\n"
     ]
    }
   ],
   "source": [
    "koszmarny_pamietnik = Pamiętnik(\"koszmarny_pamiętniczek\")\n",
    "\n",
    "koszmarny_pamietnik.save_data(\"Mój koszmarny\")\n",
    "koszmarny_pamietnik.save_data(\"pamiętniczek!\")\n",
    "koszmarny_pamietnik.read_data()"
   ]
  }
 ],
 "metadata": {
  "kernelspec": {
   "display_name": "Python 3 (ipykernel)",
   "language": "python",
   "name": "python3"
  },
  "language_info": {
   "codemirror_mode": {
    "name": "ipython",
    "version": 3
   },
   "file_extension": ".py",
   "mimetype": "text/x-python",
   "name": "python",
   "nbconvert_exporter": "python",
   "pygments_lexer": "ipython3",
   "version": "3.12.9"
  }
 },
 "nbformat": 4,
 "nbformat_minor": 5
}
