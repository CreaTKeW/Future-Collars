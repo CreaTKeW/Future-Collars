{
 "cells": [
  {
   "cell_type": "markdown",
   "id": "1ac1fbc3-9944-41b3-a42d-f8fdc466ad99",
   "metadata": {},
   "source": [
    "## Zadanie 3 - Piosenka\n",
    "Stwórz klasę przyjmujaca w konstruktorze listę będaca kolejnymi wierszami piosenki.\n",
    "Klasa będzie mie metodę *spiewaj*, która wypisze wszystkie wiersze piosenki po kolei."
   ]
  },
  {
   "cell_type": "code",
   "execution_count": 3,
   "id": "66ee683c-6849-4b6e-958b-7c5b05abfdd7",
   "metadata": {},
   "outputs": [],
   "source": [
    "class Piosenka():\n",
    "    def __init__(self, text: list[str]):\n",
    "        self.text = text\n",
    "\n",
    "    def spiewaj(self):\n",
    "        for v in self.text:\n",
    "            print(v)"
   ]
  },
  {
   "cell_type": "code",
   "execution_count": 4,
   "id": "71c72729-857c-4339-92e2-d1e185b40657",
   "metadata": {},
   "outputs": [],
   "source": [
    "text = [\n",
    "    \"Gdy rum zaszumi w głowie,\",\n",
    "    \"A ciężki znika znój,\",\n",
    "    \"Każdy ci zdrówko powie,\",\n",
    "    \"Bracie, na statek mój!\"\n",
    "]"
   ]
  },
  {
   "cell_type": "code",
   "execution_count": 5,
   "id": "0342b90c-b2ec-4b2e-bcb6-ef9550bd39dc",
   "metadata": {},
   "outputs": [
    {
     "name": "stdout",
     "output_type": "stream",
     "text": [
      "Gdy rum zaszumi w głowie,\n",
      "A ciężki znika znój,\n",
      "Każdy ci zdrówko powie,\n",
      "Bracie, na statek mój!\n"
     ]
    }
   ],
   "source": [
    "piosenka = Piosenka(text)\n",
    "piosenka.spiewaj()"
   ]
  }
 ],
 "metadata": {
  "kernelspec": {
   "display_name": "Python 3 (ipykernel)",
   "language": "python",
   "name": "python3"
  },
  "language_info": {
   "codemirror_mode": {
    "name": "ipython",
    "version": 3
   },
   "file_extension": ".py",
   "mimetype": "text/x-python",
   "name": "python",
   "nbconvert_exporter": "python",
   "pygments_lexer": "ipython3",
   "version": "3.12.9"
  }
 },
 "nbformat": 4,
 "nbformat_minor": 5
}
