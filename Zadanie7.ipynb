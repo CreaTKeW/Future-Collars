{
 "cells": [
  {
   "cell_type": "markdown",
   "id": "42c22eef-543e-4c0e-ba91-650c39c11be7",
   "metadata": {},
   "source": [
    "## Zadanie 7.\n",
    "\n",
    "Napisz funkcję przyjmujaca napis i zwracajaca informacje ile liter i cyfr jest w napisie."
   ]
  },
  {
   "cell_type": "code",
   "execution_count": 3,
   "id": "8802e4ac-8d32-4066-8165-1c2fd3a164cc",
   "metadata": {},
   "outputs": [
    {
     "name": "stdin",
     "output_type": "stream",
     "text": [
      "Podaj przykładowy napis który zawiera litery i cyfry:  niufsnbiu4biubi2bi3biu 23r.g.fdg nu943n .2.3rniunogdf\n"
     ]
    },
    {
     "name": "stdout",
     "output_type": "stream",
     "text": [
      "W otrzymanym napisie znajduje się 36 liter oraz 10 cyfr\n"
     ]
    }
   ],
   "source": [
    "def check_input(numtext: str) -> str:\n",
    "    type_count = {'numbers': 0, 'letters': 0}\n",
    "\n",
    "    clean_numtext = numtext.strip().replace(' ', '').replace('.', '')\n",
    "    numtext_list = list(clean_numtext)\n",
    "    \n",
    "    for i in numtext_list:\n",
    "        try:\n",
    "            i = int(i)\n",
    "            type_count['numbers'] += 1\n",
    "        except ValueError:\n",
    "            i = str(i)\n",
    "            type_count['letters'] += 1\n",
    "    return type_count            \n",
    "    \n",
    "text = input('Podaj przykładowy napis który zawiera litery i cyfry: ')\n",
    "output = check_input(text)\n",
    "print(f'W otrzymanym napisie znajduje się {output['letters']} liter oraz {output['numbers']} cyfr')"
   ]
  }
 ],
 "metadata": {
  "kernelspec": {
   "display_name": "Python 3 (ipykernel)",
   "language": "python",
   "name": "python3"
  },
  "language_info": {
   "codemirror_mode": {
    "name": "ipython",
    "version": 3
   },
   "file_extension": ".py",
   "mimetype": "text/x-python",
   "name": "python",
   "nbconvert_exporter": "python",
   "pygments_lexer": "ipython3",
   "version": "3.12.9"
  }
 },
 "nbformat": 4,
 "nbformat_minor": 5
}
