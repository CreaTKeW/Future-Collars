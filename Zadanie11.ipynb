{
 "cells": [
  {
   "cell_type": "markdown",
   "id": "a7ead0be-89df-49bc-b74f-a7c00ae9fdfc",
   "metadata": {},
   "source": [
    "## Zadanie 11.\n",
    "\n",
    "Utworz funkcję, która przyjmie argument **`int`** *n* i obliczy *n-ta* liczbę ciagu Fibonacciego."
   ]
  },
  {
   "cell_type": "code",
   "execution_count": 14,
   "id": "414fe25d-ace3-4413-8a35-b51c3f9158d5",
   "metadata": {},
   "outputs": [
    {
     "name": "stdin",
     "output_type": "stream",
     "text": [
      "Podaj liczbę wejściową:  3\n"
     ]
    },
    {
     "data": {
      "text/plain": [
       "2"
      ]
     },
     "execution_count": 14,
     "metadata": {},
     "output_type": "execute_result"
    }
   ],
   "source": [
    "def fibonacci_sequence(n: int) -> int:\n",
    "    if n <= 1:\n",
    "        return n\n",
    "    else:\n",
    "        return fibonacci_sequence(n - 1) + fibonacci_sequence(n - 2)\n",
    "\n",
    "number = int(input(\"Podaj liczbę wejściową: \"))\n",
    "fibonacci_sequence(number)"
   ]
  }
 ],
 "metadata": {
  "kernelspec": {
   "display_name": "Python 3 (ipykernel)",
   "language": "python",
   "name": "python3"
  },
  "language_info": {
   "codemirror_mode": {
    "name": "ipython",
    "version": 3
   },
   "file_extension": ".py",
   "mimetype": "text/x-python",
   "name": "python",
   "nbconvert_exporter": "python",
   "pygments_lexer": "ipython3",
   "version": "3.12.9"
  }
 },
 "nbformat": 4,
 "nbformat_minor": 5
}
