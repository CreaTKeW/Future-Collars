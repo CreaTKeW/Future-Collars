{
 "cells": [
  {
   "cell_type": "markdown",
   "id": "d6982492-c911-4216-8b67-f56728b0a1c5",
   "metadata": {},
   "source": [
    "## Zadanie 10.\n",
    "\n",
    "Napisz funkcję, która przyjmie dwie listy liczb całkowitych, i zwróci listę liczb występujcych w pierwszej i nie występujacych w drugiej liscie, posortowana rosnaco względem ilosci wystapien w pierwszej liscie."
   ]
  },
  {
   "cell_type": "code",
   "execution_count": 24,
   "id": "17a90560-8978-495e-9168-f7dbff8cd6b8",
   "metadata": {},
   "outputs": [
    {
     "name": "stdout",
     "output_type": "stream",
     "text": [
      "Elementy występujące w pierwszej liście, nie drugiej oraz posortowane rosnąco: [1, 7, 42, 99]\n"
     ]
    }
   ],
   "source": [
    "def check_lists(list_a: list, list_b: list) -> list:\n",
    "    try:\n",
    "        output_list = [n for n in list_a if n not in list_b]\n",
    "    except ValueError:\n",
    "        print(\"Listy mogą posiadać wyłącznie liczby całkowite.\")\n",
    "        \n",
    "    output_list.sort()    \n",
    "    return output_list\n",
    "\n",
    "list_a = [42, 15, 7, 99, 4, 28, 1]\n",
    "list_b = [2, 15, 50, 28, 31, 4, 88]\n",
    "\n",
    "output_list = check_lists(list_a, list_b)\n",
    "print(f\"Elementy występujące w pierwszej liście, nie drugiej oraz posortowane rosnąco: {output_list}\")"
   ]
  }
 ],
 "metadata": {
  "kernelspec": {
   "display_name": "Python 3 (ipykernel)",
   "language": "python",
   "name": "python3"
  },
  "language_info": {
   "codemirror_mode": {
    "name": "ipython",
    "version": 3
   },
   "file_extension": ".py",
   "mimetype": "text/x-python",
   "name": "python",
   "nbconvert_exporter": "python",
   "pygments_lexer": "ipython3",
   "version": "3.12.9"
  }
 },
 "nbformat": 4,
 "nbformat_minor": 5
}
