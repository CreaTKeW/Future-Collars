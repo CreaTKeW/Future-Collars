{
 "cells": [
  {
   "cell_type": "markdown",
   "id": "a193e397-5441-4a85-9b5c-76c5b4019d59",
   "metadata": {},
   "source": [
    "## Zadanie 2 - Suma kątów w trójkącie\n",
    "Stwórz klasę Trójkat, w której konstruktor przyjmuje 3 argumenty, reprezentujące kąty trójkąta. Klasa implementuje metodę sprawdz_katy, która sprawdzi, czy suma kątow jest równa 180."
   ]
  },
  {
   "cell_type": "code",
   "execution_count": 23,
   "id": "bd88e3a6-e213-4d38-96ba-a206c34c5c04",
   "metadata": {},
   "outputs": [],
   "source": [
    "class Trójkąt():\n",
    "    def __init__(self, first, second, third):\n",
    "        self.first = first\n",
    "        self.second = second\n",
    "        self.third = third\n",
    "\n",
    "    def sprawdz_katy(self):\n",
    "        return True if self.first + self.second + self.third == 180 else False"
   ]
  },
  {
   "cell_type": "code",
   "execution_count": 24,
   "id": "46f4767a-0d56-403a-b4f7-9230eb6255d9",
   "metadata": {},
   "outputs": [
    {
     "name": "stdout",
     "output_type": "stream",
     "text": [
      "Czy miara wszystkich kątów jest równa 180: True\n"
     ]
    }
   ],
   "source": [
    "trojkat = Trójkąt(100, 40, 40)\n",
    "output = trojkat.sprawdz_katy()\n",
    "print(f\"Czy miara wszystkich kątów jest równa 180: {output}\")"
   ]
  }
 ],
 "metadata": {
  "kernelspec": {
   "display_name": "Python 3 (ipykernel)",
   "language": "python",
   "name": "python3"
  },
  "language_info": {
   "codemirror_mode": {
    "name": "ipython",
    "version": 3
   },
   "file_extension": ".py",
   "mimetype": "text/x-python",
   "name": "python",
   "nbconvert_exporter": "python",
   "pygments_lexer": "ipython3",
   "version": "3.12.9"
  }
 },
 "nbformat": 4,
 "nbformat_minor": 5
}
