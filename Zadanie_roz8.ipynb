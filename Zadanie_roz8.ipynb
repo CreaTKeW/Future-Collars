{
 "cells": [
  {
   "cell_type": "markdown",
   "id": "ce1c43d4-31f8-419d-a426-b3f6840f64f0",
   "metadata": {},
   "source": [
    "## Zadanie 8.\n",
    "\n",
    "Stwórz klasy potomne dla klasy bazowej zwierzęcia, implementujace reprezentujace psa i kota.\n",
    "W konstruktorze każdej z nich ustaw odpowiednio zmienna reprezentujaca typ zwierzęcia.\n",
    "Zaimplementuj odpowiednio metodę *daj_głos* w każdej z klas potomnych.\n",
    "Sprawdź, czy obiekty stworzone z klas *Pies* i *Kot* potrafia poprawnie się przywitac."
   ]
  },
  {
   "cell_type": "code",
   "execution_count": 10,
   "id": "228332a7-1020-4717-bef9-42bf511f4fdf",
   "metadata": {},
   "outputs": [],
   "source": [
    "from abc import ABC, abstractmethod, abstractproperty\n",
    "\n",
    "class Zwierze(ABC):\n",
    "    def __init__(self, imie, typ):\n",
    "        self.imie = imie\n",
    "        self.typ = typ\n",
    "    \n",
    "    @abstractmethod\n",
    "    def daj_glos(self):\n",
    "        pass\n",
    "\n",
    "    def powitanie(self):\n",
    "        glos = self.daj_glos()\n",
    "        return f\"{glos}! Mam na imię {self.imie} i jestem {self.typ}\""
   ]
  },
  {
   "cell_type": "code",
   "execution_count": 11,
   "id": "8946f009-b1ba-48f9-8109-88cb4d664953",
   "metadata": {},
   "outputs": [
    {
     "name": "stdout",
     "output_type": "stream",
     "text": [
      "Hau Hau! Mam na imię Reksio i jestem Pies\n"
     ]
    }
   ],
   "source": [
    "class Pies(Zwierze):\n",
    "    def __init__(self, imie):\n",
    "        super().__init__(imie, \"Pies\")\n",
    "\n",
    "    def daj_glos(self):\n",
    "        return \"Hau Hau\"\n",
    "\n",
    "reksio = Pies(\"Reksio\")\n",
    "print(reksio.powitanie())"
   ]
  },
  {
   "cell_type": "code",
   "execution_count": 12,
   "id": "df4950a8-3afb-4433-956a-6f0a4f122f86",
   "metadata": {},
   "outputs": [
    {
     "name": "stdout",
     "output_type": "stream",
     "text": [
      "Miau Miau! Mam na imię Mruczek i jestem Kot\n"
     ]
    }
   ],
   "source": [
    "class Kot(Zwierze):\n",
    "    def __init__(self, imie):\n",
    "        super().__init__(imie, \"Kot\")\n",
    "\n",
    "    def daj_glos(self):\n",
    "        return \"Miau Miau\"\n",
    "\n",
    "mruczek = Kot(\"Mruczek\")\n",
    "print(mruczek.powitanie())"
   ]
  }
 ],
 "metadata": {
  "kernelspec": {
   "display_name": "Python 3 (ipykernel)",
   "language": "python",
   "name": "python3"
  },
  "language_info": {
   "codemirror_mode": {
    "name": "ipython",
    "version": 3
   },
   "file_extension": ".py",
   "mimetype": "text/x-python",
   "name": "python",
   "nbconvert_exporter": "python",
   "pygments_lexer": "ipython3",
   "version": "3.12.9"
  }
 },
 "nbformat": 4,
 "nbformat_minor": 5
}
