{
 "cells": [
  {
   "cell_type": "markdown",
   "id": "5e13d8fa-efcc-42ce-9a01-e54457ca3def",
   "metadata": {},
   "source": [
    "## Zadanie 12.\n",
    "\n",
    "Napisz funkcję, która przyjmie argumenty nazwane *imie* i *wzrost* a następnie utworzy wpis do globalnego słownika.\n",
    "Dodaj co najmniej 5 wpisów."
   ]
  },
  {
   "cell_type": "code",
   "execution_count": 4,
   "id": "df0f55c9-e284-48ce-9274-15104c88a201",
   "metadata": {},
   "outputs": [
    {
     "name": "stdin",
     "output_type": "stream",
     "text": [
      "Podaj imię:  Kewin\n",
      "Podaj wzrost:  178\n",
      "Podaj imię:  Eryk\n",
      "Podaj wzrost:  188\n",
      "Podaj imię:  Patryk\n",
      "Podaj wzrost:  182\n",
      "Podaj imię:  Laura\n",
      "Podaj wzrost:  166\n",
      "Podaj imię:  Marcin\n",
      "Podaj wzrost:  192\n"
     ]
    },
    {
     "name": "stdout",
     "output_type": "stream",
     "text": [
      "{'Kewin': '178', 'Eryk': '188', 'Patryk': '182', 'Laura': '166', 'Marcin': '192'}\n"
     ]
    }
   ],
   "source": [
    "global_dict = {}\n",
    "\n",
    "def add_person(name: str, height: str) -> None:\n",
    "    global global_dict\n",
    "    global_dict[name] = height\n",
    "\n",
    "for i in range(5):\n",
    "    imie = input(\"Podaj imię: \")\n",
    "    wzrost = input(\"Podaj wzrost: \")\n",
    "    add_person(imie, wzrost)\n",
    "\n",
    "print(global_dict)"
   ]
  },
  {
   "cell_type": "code",
   "execution_count": null,
   "id": "c26b2a71-07a7-4632-baa9-35f39116a753",
   "metadata": {},
   "outputs": [],
   "source": []
  }
 ],
 "metadata": {
  "kernelspec": {
   "display_name": "Python 3 (ipykernel)",
   "language": "python",
   "name": "python3"
  },
  "language_info": {
   "codemirror_mode": {
    "name": "ipython",
    "version": 3
   },
   "file_extension": ".py",
   "mimetype": "text/x-python",
   "name": "python",
   "nbconvert_exporter": "python",
   "pygments_lexer": "ipython3",
   "version": "3.12.9"
  }
 },
 "nbformat": 4,
 "nbformat_minor": 5
}
