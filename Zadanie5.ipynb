{
 "cells": [
  {
   "cell_type": "markdown",
   "id": "eeb154b9-4ecd-446d-84a7-28e532c9ff92",
   "metadata": {},
   "source": [
    "## Zadanie 5.\n",
    "\n",
    "Napisz funkcję, która zwróci które urodziny będą obchodziły w tym roku osoby urodzone w latach podanych w lisćie będącej argumentem wejściowym danej funkcji."
   ]
  },
  {
   "cell_type": "code",
   "execution_count": 1,
   "id": "2166696f-2fac-47da-84ba-4df7ec9b6873",
   "metadata": {},
   "outputs": [
    {
     "name": "stdin",
     "output_type": "stream",
     "text": [
      "Podaj rok narodzin:  2005\n"
     ]
    },
    {
     "name": "stdout",
     "output_type": "stream",
     "text": [
      "W tym roku będziesz obchodził 20 urodziny!\n"
     ]
    }
   ],
   "source": [
    "from datetime import datetime\n",
    "\n",
    "def this_year_birthday(birth_year: int) -> int:\n",
    "    this_year = datetime.now().year\n",
    "    birthday_count = this_year - birth_year\n",
    "    return birthday_count\n",
    "\n",
    "birth_year = int(input('Podaj rok narodzin: '))\n",
    "years = this_year_birthday(birth_year)\n",
    "print(f'W tym roku będziesz obchodził {years} urodziny!')"
   ]
  }
 ],
 "metadata": {
  "kernelspec": {
   "display_name": "Python 3 (ipykernel)",
   "language": "python",
   "name": "python3"
  },
  "language_info": {
   "codemirror_mode": {
    "name": "ipython",
    "version": 3
   },
   "file_extension": ".py",
   "mimetype": "text/x-python",
   "name": "python",
   "nbconvert_exporter": "python",
   "pygments_lexer": "ipython3",
   "version": "3.12.9"
  }
 },
 "nbformat": 4,
 "nbformat_minor": 5
}
