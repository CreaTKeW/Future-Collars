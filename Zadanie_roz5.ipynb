{
 "cells": [
  {
   "cell_type": "markdown",
   "id": "5dd7a3c7-6762-4e2a-81c7-9cbd26824762",
   "metadata": {},
   "source": [
    "## Zadanie 5.\n",
    "\n",
    "Stwórz klasę reprezentujaca linię prosta, która przymuje w konstruktorze współrzędne obu końców w układzie współrzędnych XY.\n",
    "Klasa implementuje metodę obliczaja długosc linii."
   ]
  },
  {
   "cell_type": "code",
   "execution_count": 12,
   "id": "25c6b952-7bda-4e74-bb49-e9ccfb595a3f",
   "metadata": {
    "editable": true,
    "slideshow": {
     "slide_type": ""
    },
    "tags": []
   },
   "outputs": [],
   "source": [
    "import math\n",
    "\n",
    "class Prosta():\n",
    "    def __init__(self, x1, y1, x2, y2):\n",
    "        self.x1 = x1\n",
    "        self.y1 = y1\n",
    "        self.x2 = x2\n",
    "        self.y2 = y2\n",
    "\n",
    "    def oblicz_dlugosc(self):\n",
    "        length = math.sqrt(math.pow(self.x1 - self.x2, 2) + math.pow(self.y1 - self.y2, 2))\n",
    "        return length"
   ]
  },
  {
   "cell_type": "code",
   "execution_count": 19,
   "id": "9b46c4c9-9d09-4d83-9305-2ba6bda73328",
   "metadata": {},
   "outputs": [
    {
     "name": "stdout",
     "output_type": "stream",
     "text": [
      "5.83\n"
     ]
    }
   ],
   "source": [
    "prosta = Prosta(0, 0, -3, -5)\n",
    "print(round(prosta.oblicz_dlugosc(), 2))"
   ]
  }
 ],
 "metadata": {
  "kernelspec": {
   "display_name": "Python 3 (ipykernel)",
   "language": "python",
   "name": "python3"
  },
  "language_info": {
   "codemirror_mode": {
    "name": "ipython",
    "version": 3
   },
   "file_extension": ".py",
   "mimetype": "text/x-python",
   "name": "python",
   "nbconvert_exporter": "python",
   "pygments_lexer": "ipython3",
   "version": "3.12.9"
  }
 },
 "nbformat": 4,
 "nbformat_minor": 5
}
