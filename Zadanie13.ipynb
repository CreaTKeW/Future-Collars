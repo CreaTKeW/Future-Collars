{
 "cells": [
  {
   "cell_type": "markdown",
   "id": "0e1a0af1-d5d6-4ee6-bf21-cbdfa04d1838",
   "metadata": {},
   "source": [
    "## Zadanie 13.\n",
    "\n",
    "Napisz funkcję, która przyjmie słownik mapujacy imiona na wzrost, a następnie zwróci listę zawierajaca imiona posortowane według wzrostu malejaco."
   ]
  },
  {
   "cell_type": "code",
   "execution_count": 1,
   "id": "a35b036e-d5f5-4889-b3c3-4154d7a517e3",
   "metadata": {},
   "outputs": [
    {
     "name": "stdout",
     "output_type": "stream",
     "text": [
      "['Marcin', 'Eryk', 'Patryk', 'Kewin', 'Laura']\n"
     ]
    }
   ],
   "source": [
    "# lambda do mapowania słownika\n",
    "dictionary = {'Kewin': 178, 'Eryk': 188, 'Patryk': 182, 'Laura': 166, 'Marcin': 192}\n",
    "\n",
    "def function(name_height_dict: dict) -> list:\n",
    "    sorted_list = sorted(name_height_dict, key=lambda name: name_height_dict[name], reverse=True)\n",
    "    return sorted_list\n",
    "\n",
    "output = function(dictionary)\n",
    "print(output)"
   ]
  }
 ],
 "metadata": {
  "kernelspec": {
   "display_name": "Python 3 (ipykernel)",
   "language": "python",
   "name": "python3"
  },
  "language_info": {
   "codemirror_mode": {
    "name": "ipython",
    "version": 3
   },
   "file_extension": ".py",
   "mimetype": "text/x-python",
   "name": "python",
   "nbconvert_exporter": "python",
   "pygments_lexer": "ipython3",
   "version": "3.12.9"
  }
 },
 "nbformat": 4,
 "nbformat_minor": 5
}
