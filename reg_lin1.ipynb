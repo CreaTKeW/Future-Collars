{
 "cells": [
  {
   "cell_type": "markdown",
   "id": "55ee99ea-3ef9-44dc-9957-73e821ca7fab",
   "metadata": {},
   "source": [
    "## Zadania"
   ]
  },
  {
   "cell_type": "markdown",
   "id": "902513c0-f5ff-47b6-a341-84f86e12eab9",
   "metadata": {},
   "source": [
    "1. Zbuduj model używając tylko jednej zmiennej dla pozostałych atrybutów i wybierz ten, który uzyskuje najlepsze wyniki pomiaru jakości regresji. Następnie porównaj najlepiej działający model z regresją wyuczoną na wszystkich zmiennych objaśniających."
   ]
  },
  {
   "cell_type": "markdown",
   "id": "31df0de2-9b3e-4f4a-85d6-55cf32715e27",
   "metadata": {},
   "source": [
    "## Przygotowanie danych"
   ]
  },
  {
   "cell_type": "code",
   "execution_count": 1,
   "id": "0645d54f-984a-4b06-bd4f-d4e08c53c7cb",
   "metadata": {},
   "outputs": [],
   "source": [
    "import pandas as pd # Feature Engineering\n",
    "import numpy as np # Do numerycznych operacji na macierzach i wektorach\n",
    "\n",
    "# Do wizualizacji danych\n",
    "import matplotlib.pyplot as plt\n",
    "import seaborn as sns \n",
    "\n",
    "from sklearn.linear_model import LinearRegression # Konstruktor modelu regresji liniowej\n",
    "from sklearn.model_selection import train_test_split # Funkcja do podziału danych na treningowe i testowe\n",
    "from sklearn.metrics import mean_squared_error # Funkcja do obliczania MSE (Błędu średniokwadratowego)\n",
    "# from sklearn import datasets"
   ]
  },
  {
   "cell_type": "code",
   "execution_count": 2,
   "id": "c3df26ac-9946-4d39-bea2-b0fde8889786",
   "metadata": {},
   "outputs": [
    {
     "data": {
      "text/html": [
       "<div>\n",
       "<style scoped>\n",
       "    .dataframe tbody tr th:only-of-type {\n",
       "        vertical-align: middle;\n",
       "    }\n",
       "\n",
       "    .dataframe tbody tr th {\n",
       "        vertical-align: top;\n",
       "    }\n",
       "\n",
       "    .dataframe thead th {\n",
       "        text-align: right;\n",
       "    }\n",
       "</style>\n",
       "<table border=\"1\" class=\"dataframe\">\n",
       "  <thead>\n",
       "    <tr style=\"text-align: right;\">\n",
       "      <th></th>\n",
       "      <th>AGE</th>\n",
       "      <th>SEX</th>\n",
       "      <th>BMI</th>\n",
       "      <th>BP</th>\n",
       "      <th>S1</th>\n",
       "      <th>S2</th>\n",
       "      <th>S3</th>\n",
       "      <th>S4</th>\n",
       "      <th>S5</th>\n",
       "      <th>S6</th>\n",
       "      <th>Y</th>\n",
       "    </tr>\n",
       "  </thead>\n",
       "  <tbody>\n",
       "    <tr>\n",
       "      <th>0</th>\n",
       "      <td>59</td>\n",
       "      <td>2</td>\n",
       "      <td>32.1</td>\n",
       "      <td>101.0</td>\n",
       "      <td>157</td>\n",
       "      <td>93.2</td>\n",
       "      <td>38.0</td>\n",
       "      <td>4.0</td>\n",
       "      <td>4.8598</td>\n",
       "      <td>87</td>\n",
       "      <td>151</td>\n",
       "    </tr>\n",
       "    <tr>\n",
       "      <th>1</th>\n",
       "      <td>48</td>\n",
       "      <td>1</td>\n",
       "      <td>21.6</td>\n",
       "      <td>87.0</td>\n",
       "      <td>183</td>\n",
       "      <td>103.2</td>\n",
       "      <td>70.0</td>\n",
       "      <td>3.0</td>\n",
       "      <td>3.8918</td>\n",
       "      <td>69</td>\n",
       "      <td>75</td>\n",
       "    </tr>\n",
       "    <tr>\n",
       "      <th>2</th>\n",
       "      <td>72</td>\n",
       "      <td>2</td>\n",
       "      <td>30.5</td>\n",
       "      <td>93.0</td>\n",
       "      <td>156</td>\n",
       "      <td>93.6</td>\n",
       "      <td>41.0</td>\n",
       "      <td>4.0</td>\n",
       "      <td>4.6728</td>\n",
       "      <td>85</td>\n",
       "      <td>141</td>\n",
       "    </tr>\n",
       "    <tr>\n",
       "      <th>3</th>\n",
       "      <td>24</td>\n",
       "      <td>1</td>\n",
       "      <td>25.3</td>\n",
       "      <td>84.0</td>\n",
       "      <td>198</td>\n",
       "      <td>131.4</td>\n",
       "      <td>40.0</td>\n",
       "      <td>5.0</td>\n",
       "      <td>4.8903</td>\n",
       "      <td>89</td>\n",
       "      <td>206</td>\n",
       "    </tr>\n",
       "    <tr>\n",
       "      <th>4</th>\n",
       "      <td>50</td>\n",
       "      <td>1</td>\n",
       "      <td>23.0</td>\n",
       "      <td>101.0</td>\n",
       "      <td>192</td>\n",
       "      <td>125.4</td>\n",
       "      <td>52.0</td>\n",
       "      <td>4.0</td>\n",
       "      <td>4.2905</td>\n",
       "      <td>80</td>\n",
       "      <td>135</td>\n",
       "    </tr>\n",
       "  </tbody>\n",
       "</table>\n",
       "</div>"
      ],
      "text/plain": [
       "   AGE  SEX   BMI     BP   S1     S2    S3   S4      S5  S6    Y\n",
       "0   59    2  32.1  101.0  157   93.2  38.0  4.0  4.8598  87  151\n",
       "1   48    1  21.6   87.0  183  103.2  70.0  3.0  3.8918  69   75\n",
       "2   72    2  30.5   93.0  156   93.6  41.0  4.0  4.6728  85  141\n",
       "3   24    1  25.3   84.0  198  131.4  40.0  5.0  4.8903  89  206\n",
       "4   50    1  23.0  101.0  192  125.4  52.0  4.0  4.2905  80  135"
      ]
     },
     "execution_count": 2,
     "metadata": {},
     "output_type": "execute_result"
    }
   ],
   "source": [
    "data = pd.read_csv('../Dane/diabetes.csv')\n",
    "data.head()"
   ]
  },
  {
   "cell_type": "code",
   "execution_count": 3,
   "id": "2f7d4488-b586-4278-9f7c-250648dc5208",
   "metadata": {},
   "outputs": [
    {
     "name": "stdout",
     "output_type": "stream",
     "text": [
      "Lista atrybutów: ['AGE', 'SEX', 'BMI', 'BP', 'S1', 'S2', 'S3', 'S4', 'S5', 'S6']\n",
      "Zmienna zależna: Y\n"
     ]
    }
   ],
   "source": [
    "print(f\"Lista atrybutów: {data.columns.to_list()[:-1]}\") # Lista atrybutów\n",
    "print(f\"Zmienna zależna: {data.columns[-1]}\") # Zmienna zależna / modelowana"
   ]
  },
  {
   "cell_type": "code",
   "execution_count": 4,
   "id": "4db4eca5-a569-44ac-a4fe-fded24057f9d",
   "metadata": {},
   "outputs": [
    {
     "name": "stdout",
     "output_type": "stream",
     "text": [
      "Dataframe o wymiarach: 442 wierszy oraz 11 kolumn\n"
     ]
    }
   ],
   "source": [
    "# Wymiary dataframe'a\n",
    "rows, columns = data.shape\n",
    "print(f'Dataframe o wymiarach: {rows} wierszy oraz {columns} kolumn')"
   ]
  },
  {
   "cell_type": "code",
   "execution_count": 5,
   "id": "dcf3e43a-aba7-40d2-a471-34a84f2df318",
   "metadata": {},
   "outputs": [
    {
     "data": {
      "text/plain": [
       "np.False_"
      ]
     },
     "execution_count": 5,
     "metadata": {},
     "output_type": "execute_result"
    }
   ],
   "source": [
    "data.isnull().values.any() # Sprawdza czy w dataframe znajduje się dowolna pusta wartość"
   ]
  },
  {
   "cell_type": "code",
   "execution_count": 6,
   "id": "d59a30e6-6339-4587-8277-86e1530fc095",
   "metadata": {},
   "outputs": [
    {
     "data": {
      "text/html": [
       "<div>\n",
       "<style scoped>\n",
       "    .dataframe tbody tr th:only-of-type {\n",
       "        vertical-align: middle;\n",
       "    }\n",
       "\n",
       "    .dataframe tbody tr th {\n",
       "        vertical-align: top;\n",
       "    }\n",
       "\n",
       "    .dataframe thead th {\n",
       "        text-align: right;\n",
       "    }\n",
       "</style>\n",
       "<table border=\"1\" class=\"dataframe\">\n",
       "  <thead>\n",
       "    <tr style=\"text-align: right;\">\n",
       "      <th></th>\n",
       "      <th>AGE</th>\n",
       "      <th>SEX</th>\n",
       "      <th>BMI</th>\n",
       "      <th>BP</th>\n",
       "      <th>S1</th>\n",
       "      <th>S2</th>\n",
       "      <th>S3</th>\n",
       "      <th>S4</th>\n",
       "      <th>S5</th>\n",
       "      <th>S6</th>\n",
       "      <th>Y</th>\n",
       "    </tr>\n",
       "  </thead>\n",
       "  <tbody>\n",
       "    <tr>\n",
       "      <th>AGE</th>\n",
       "      <td>1.000000</td>\n",
       "      <td>0.173737</td>\n",
       "      <td>0.185085</td>\n",
       "      <td>0.335428</td>\n",
       "      <td>0.260061</td>\n",
       "      <td>0.219243</td>\n",
       "      <td>-0.075181</td>\n",
       "      <td>0.203841</td>\n",
       "      <td>0.270774</td>\n",
       "      <td>0.301731</td>\n",
       "      <td>0.187889</td>\n",
       "    </tr>\n",
       "    <tr>\n",
       "      <th>SEX</th>\n",
       "      <td>0.173737</td>\n",
       "      <td>1.000000</td>\n",
       "      <td>0.088161</td>\n",
       "      <td>0.241010</td>\n",
       "      <td>0.035277</td>\n",
       "      <td>0.142637</td>\n",
       "      <td>-0.379090</td>\n",
       "      <td>0.332115</td>\n",
       "      <td>0.149916</td>\n",
       "      <td>0.208133</td>\n",
       "      <td>0.043062</td>\n",
       "    </tr>\n",
       "    <tr>\n",
       "      <th>BMI</th>\n",
       "      <td>0.185085</td>\n",
       "      <td>0.088161</td>\n",
       "      <td>1.000000</td>\n",
       "      <td>0.395411</td>\n",
       "      <td>0.249777</td>\n",
       "      <td>0.261170</td>\n",
       "      <td>-0.366811</td>\n",
       "      <td>0.413807</td>\n",
       "      <td>0.446157</td>\n",
       "      <td>0.388680</td>\n",
       "      <td>0.586450</td>\n",
       "    </tr>\n",
       "    <tr>\n",
       "      <th>BP</th>\n",
       "      <td>0.335428</td>\n",
       "      <td>0.241010</td>\n",
       "      <td>0.395411</td>\n",
       "      <td>1.000000</td>\n",
       "      <td>0.242464</td>\n",
       "      <td>0.185548</td>\n",
       "      <td>-0.178762</td>\n",
       "      <td>0.257650</td>\n",
       "      <td>0.393480</td>\n",
       "      <td>0.390430</td>\n",
       "      <td>0.441482</td>\n",
       "    </tr>\n",
       "    <tr>\n",
       "      <th>S1</th>\n",
       "      <td>0.260061</td>\n",
       "      <td>0.035277</td>\n",
       "      <td>0.249777</td>\n",
       "      <td>0.242464</td>\n",
       "      <td>1.000000</td>\n",
       "      <td>0.896663</td>\n",
       "      <td>0.051519</td>\n",
       "      <td>0.542207</td>\n",
       "      <td>0.515503</td>\n",
       "      <td>0.325717</td>\n",
       "      <td>0.212022</td>\n",
       "    </tr>\n",
       "    <tr>\n",
       "      <th>S2</th>\n",
       "      <td>0.219243</td>\n",
       "      <td>0.142637</td>\n",
       "      <td>0.261170</td>\n",
       "      <td>0.185548</td>\n",
       "      <td>0.896663</td>\n",
       "      <td>1.000000</td>\n",
       "      <td>-0.196455</td>\n",
       "      <td>0.659817</td>\n",
       "      <td>0.318357</td>\n",
       "      <td>0.290600</td>\n",
       "      <td>0.174054</td>\n",
       "    </tr>\n",
       "    <tr>\n",
       "      <th>S3</th>\n",
       "      <td>-0.075181</td>\n",
       "      <td>-0.379090</td>\n",
       "      <td>-0.366811</td>\n",
       "      <td>-0.178762</td>\n",
       "      <td>0.051519</td>\n",
       "      <td>-0.196455</td>\n",
       "      <td>1.000000</td>\n",
       "      <td>-0.738493</td>\n",
       "      <td>-0.398577</td>\n",
       "      <td>-0.273697</td>\n",
       "      <td>-0.394789</td>\n",
       "    </tr>\n",
       "    <tr>\n",
       "      <th>S4</th>\n",
       "      <td>0.203841</td>\n",
       "      <td>0.332115</td>\n",
       "      <td>0.413807</td>\n",
       "      <td>0.257650</td>\n",
       "      <td>0.542207</td>\n",
       "      <td>0.659817</td>\n",
       "      <td>-0.738493</td>\n",
       "      <td>1.000000</td>\n",
       "      <td>0.617859</td>\n",
       "      <td>0.417212</td>\n",
       "      <td>0.430453</td>\n",
       "    </tr>\n",
       "    <tr>\n",
       "      <th>S5</th>\n",
       "      <td>0.270774</td>\n",
       "      <td>0.149916</td>\n",
       "      <td>0.446157</td>\n",
       "      <td>0.393480</td>\n",
       "      <td>0.515503</td>\n",
       "      <td>0.318357</td>\n",
       "      <td>-0.398577</td>\n",
       "      <td>0.617859</td>\n",
       "      <td>1.000000</td>\n",
       "      <td>0.464669</td>\n",
       "      <td>0.565883</td>\n",
       "    </tr>\n",
       "    <tr>\n",
       "      <th>S6</th>\n",
       "      <td>0.301731</td>\n",
       "      <td>0.208133</td>\n",
       "      <td>0.388680</td>\n",
       "      <td>0.390430</td>\n",
       "      <td>0.325717</td>\n",
       "      <td>0.290600</td>\n",
       "      <td>-0.273697</td>\n",
       "      <td>0.417212</td>\n",
       "      <td>0.464669</td>\n",
       "      <td>1.000000</td>\n",
       "      <td>0.382483</td>\n",
       "    </tr>\n",
       "    <tr>\n",
       "      <th>Y</th>\n",
       "      <td>0.187889</td>\n",
       "      <td>0.043062</td>\n",
       "      <td>0.586450</td>\n",
       "      <td>0.441482</td>\n",
       "      <td>0.212022</td>\n",
       "      <td>0.174054</td>\n",
       "      <td>-0.394789</td>\n",
       "      <td>0.430453</td>\n",
       "      <td>0.565883</td>\n",
       "      <td>0.382483</td>\n",
       "      <td>1.000000</td>\n",
       "    </tr>\n",
       "  </tbody>\n",
       "</table>\n",
       "</div>"
      ],
      "text/plain": [
       "          AGE       SEX       BMI        BP        S1        S2        S3  \\\n",
       "AGE  1.000000  0.173737  0.185085  0.335428  0.260061  0.219243 -0.075181   \n",
       "SEX  0.173737  1.000000  0.088161  0.241010  0.035277  0.142637 -0.379090   \n",
       "BMI  0.185085  0.088161  1.000000  0.395411  0.249777  0.261170 -0.366811   \n",
       "BP   0.335428  0.241010  0.395411  1.000000  0.242464  0.185548 -0.178762   \n",
       "S1   0.260061  0.035277  0.249777  0.242464  1.000000  0.896663  0.051519   \n",
       "S2   0.219243  0.142637  0.261170  0.185548  0.896663  1.000000 -0.196455   \n",
       "S3  -0.075181 -0.379090 -0.366811 -0.178762  0.051519 -0.196455  1.000000   \n",
       "S4   0.203841  0.332115  0.413807  0.257650  0.542207  0.659817 -0.738493   \n",
       "S5   0.270774  0.149916  0.446157  0.393480  0.515503  0.318357 -0.398577   \n",
       "S6   0.301731  0.208133  0.388680  0.390430  0.325717  0.290600 -0.273697   \n",
       "Y    0.187889  0.043062  0.586450  0.441482  0.212022  0.174054 -0.394789   \n",
       "\n",
       "           S4        S5        S6         Y  \n",
       "AGE  0.203841  0.270774  0.301731  0.187889  \n",
       "SEX  0.332115  0.149916  0.208133  0.043062  \n",
       "BMI  0.413807  0.446157  0.388680  0.586450  \n",
       "BP   0.257650  0.393480  0.390430  0.441482  \n",
       "S1   0.542207  0.515503  0.325717  0.212022  \n",
       "S2   0.659817  0.318357  0.290600  0.174054  \n",
       "S3  -0.738493 -0.398577 -0.273697 -0.394789  \n",
       "S4   1.000000  0.617859  0.417212  0.430453  \n",
       "S5   0.617859  1.000000  0.464669  0.565883  \n",
       "S6   0.417212  0.464669  1.000000  0.382483  \n",
       "Y    0.430453  0.565883  0.382483  1.000000  "
      ]
     },
     "execution_count": 6,
     "metadata": {},
     "output_type": "execute_result"
    }
   ],
   "source": [
    "corr = data.corr()\n",
    "corr # Dataframe korelacji - Trudny do wglądu zwłaszcza w przypadku dużej ilości danych"
   ]
  },
  {
   "cell_type": "code",
   "execution_count": 7,
   "id": "6a40814f-f076-471c-afc4-dcb8a170b5ae",
   "metadata": {},
   "outputs": [
    {
     "data": {
      "text/plain": [
       "<Axes: >"
      ]
     },
     "execution_count": 7,
     "metadata": {},
     "output_type": "execute_result"
    },
    {
     "data": {
      "image/png": "[encoded data removed]",
      "text/plain": [
       "<Figure size 640x480 with 2 Axes>"
      ]
     },
     "metadata": {},
     "output_type": "display_data"
    }
   ],
   "source": [
    "sns.heatmap(corr, xticklabels=corr.columns, yticklabels=corr.index) # Przydatny sposób do wizualizacji korelacji między atrybutami i etykietami"
   ]
  },
  {
   "cell_type": "code",
   "execution_count": 8,
   "id": "87bcc9bd-ea85-4c9b-a841-ab5bc31907e3",
   "metadata": {},
   "outputs": [
    {
     "data": {
      "text/plain": [
       "['AGE', 'SEX', 'BMI', 'BP', 'S1', 'S2', 'S3', 'S4', 'S5', 'S6']"
      ]
     },
     "execution_count": 8,
     "metadata": {},
     "output_type": "execute_result"
    }
   ],
   "source": [
    "dataset = data.iloc[:,:-1] # Wyodrębnienie danych z samymi atrybutami\n",
    "dataset.columns.to_list()"
   ]
  },
  {
   "cell_type": "markdown",
   "id": "3cda7995-e66a-4e70-9011-99e1f249077d",
   "metadata": {},
   "source": [
    "# Trenowanie modelu"
   ]
  },
  {
   "cell_type": "markdown",
   "id": "12b42aef-1ef6-4e74-afd2-2b80d0432c1c",
   "metadata": {},
   "source": [
    "### Model regresyjny - wszystkie atrybuty"
   ]
  },
  {
   "cell_type": "code",
   "execution_count": 9,
   "id": "c0786e22-a4bc-48ef-a3bd-a8b72cc012ab",
   "metadata": {},
   "outputs": [],
   "source": [
    "# Podział danych na treningowe 80% i testowe 20%\n",
    "X_train_all, X_test_all, y_train_all, y_test_all = train_test_split(dataset, data.Y, test_size=0.2, random_state=0)"
   ]
  },
  {
   "cell_type": "code",
   "execution_count": 10,
   "id": "af4ab674-747e-444d-b999-7fe3ad6fb18e",
   "metadata": {},
   "outputs": [
    {
     "data": {
      "text/plain": [
       "0.3322332173106173"
      ]
     },
     "execution_count": 10,
     "metadata": {},
     "output_type": "execute_result"
    }
   ],
   "source": [
    "all_model = LinearRegression() # Stworzenie obiektu modelu\n",
    "all_model.fit(X_train_all, y_train_all) # Uczenie modelu na danych treningowych\n",
    "\n",
    "all_r_score = all_model.score(X_test_all, y_test_all) \n",
    "all_r_score # Weryfikacja modelu na danych testowych -> Zwraca r^2 - wyznacznik dopasowania modelu do danych"
   ]
  },
  {
   "cell_type": "code",
   "execution_count": 13,
   "id": "d93c2639-8f15-4103-99ca-54ba10c6f5ce",
   "metadata": {},
   "outputs": [
    {
     "data": {
      "text/plain": [
       "3424.2593342986975"
      ]
     },
     "execution_count": 13,
     "metadata": {},
     "output_type": "execute_result"
    }
   ],
   "source": [
    "all_model_predicted = all_model.predict(X_test_all) # Zwraca ndarray z przewidzianymi wartościami\n",
    "all_model_mse = mean_squared_error(all_model_predicted, y_test_all)\n",
    "all_model_mse # MSE - Błąd średniokwadratowy -> Wyższa wartość oznacza gorszy wynik dla modelu"
   ]
  },
  {
   "cell_type": "code",
   "execution_count": 40,
   "id": "98af8215-60de-41a9-8449-2c5575ee5d75",
   "metadata": {},
   "outputs": [
    {
     "data": {
      "text/plain": [
       "np.float64(-308.75000596284633)"
      ]
     },
     "execution_count": 40,
     "metadata": {},
     "output_type": "execute_result"
    }
   ],
   "source": [
    "# Punkt przecięcia prostej z osią Y -> Przewidywana domyślna wartość w wypadku gdy nasze cechy są równe 0\n",
    "all_model.intercept_"
   ]
  },
  {
   "cell_type": "code",
   "execution_count": 52,
   "id": "b872914b-ca66-4282-8708-27fee96ceb89",
   "metadata": {},
   "outputs": [],
   "source": [
    "coeff = all_model.coef_\n",
    "labels = list(X_train_all.columns)"
   ]
  },
  {
   "cell_type": "code",
   "execution_count": 55,
   "id": "7b1f466e-5d1e-4643-b4c4-fb1146520721",
   "metadata": {},
   "outputs": [
    {
     "data": {
      "text/html": [
       "<div>\n",
       "<style scoped>\n",
       "    .dataframe tbody tr th:only-of-type {\n",
       "        vertical-align: middle;\n",
       "    }\n",
       "\n",
       "    .dataframe tbody tr th {\n",
       "        vertical-align: top;\n",
       "    }\n",
       "\n",
       "    .dataframe thead th {\n",
       "        text-align: right;\n",
       "    }\n",
       "</style>\n",
       "<table border=\"1\" class=\"dataframe\">\n",
       "  <thead>\n",
       "    <tr style=\"text-align: right;\">\n",
       "      <th></th>\n",
       "      <th>AGE</th>\n",
       "      <th>SEX</th>\n",
       "      <th>BMI</th>\n",
       "      <th>BP</th>\n",
       "      <th>S1</th>\n",
       "      <th>S2</th>\n",
       "      <th>S3</th>\n",
       "      <th>S4</th>\n",
       "      <th>S5</th>\n",
       "      <th>S6</th>\n",
       "    </tr>\n",
       "  </thead>\n",
       "  <tbody>\n",
       "    <tr>\n",
       "      <th>0</th>\n",
       "      <td>-0.129138</td>\n",
       "      <td>-23.178923</td>\n",
       "      <td>6.065521</td>\n",
       "      <td>1.051665</td>\n",
       "      <td>-0.911848</td>\n",
       "      <td>0.507625</td>\n",
       "      <td>0.091116</td>\n",
       "      <td>6.285182</td>\n",
       "      <td>66.693161</td>\n",
       "      <td>0.178239</td>\n",
       "    </tr>\n",
       "  </tbody>\n",
       "</table>\n",
       "</div>"
      ],
      "text/plain": [
       "        AGE        SEX       BMI        BP        S1        S2        S3  \\\n",
       "0 -0.129138 -23.178923  6.065521  1.051665 -0.911848  0.507625  0.091116   \n",
       "\n",
       "         S4         S5        S6  \n",
       "0  6.285182  66.693161  0.178239  "
      ]
     },
     "execution_count": 55,
     "metadata": {},
     "output_type": "execute_result"
    },
    {
     "data": {
      "image/png": "[encoded data removed]",
      "text/plain": [
       "<Figure size 1100x600 with 1 Axes>"
      ]
     },
     "metadata": {},
     "output_type": "display_data"
    }
   ],
   "source": [
    "# Wizualizacji współczynników zmiennych\n",
    "features = pd.DataFrame()\n",
    "features['Features'] = labels\n",
    "features['importance'] = list(coeff)\n",
    "features.sort_values(by='importance', ascending=True, inplace=True)\n",
    "features['positive'] = features.importance > 0\n",
    "features.set_index('Features', inplace=True)\n",
    "features.importance.plot(kind='barh', figsize=(11, 6), color = features.positive.map({True: 'blue', False: 'red'}))\n",
    "plt.xlabel('Importance')\n",
    "\n",
    "# Współczynnik zmiennych -> Jak każda jedna jednostka wpływa na wynik zmiennej zależnej\n",
    "all_model_coef = pd.DataFrame([coeff], columns=labels)\n",
    "all_model_coef"
   ]
  },
  {
   "cell_type": "markdown",
   "id": "0f326e9c-abb4-475a-9ed9-5da240d81e5b",
   "metadata": {},
   "source": [
    "### Model regresyjny - Jeden atrybut"
   ]
  },
  {
   "cell_type": "code",
   "execution_count": 61,
   "id": "d8d8aa7a-5799-441c-b41a-8a557bf008d1",
   "metadata": {},
   "outputs": [],
   "source": [
    "X_train_task, X_test_task, y_train_task, y_test_task = train_test_split(dataset[['S5']], data.Y, test_size=0.2, random_state=0)\n",
    "\n",
    "task_model = LinearRegression()\n",
    "task_model.fit(X_train_task, y_train_task)\n",
    "task_r_score = task_model.score(X_test_task, y_test_task)\n",
    "\n",
    "task_predicted = task_model.predict(X_test_task)\n",
    "task_model_mse = mean_squared_error(task_predicted, y_test_task)\n",
    "\n",
    "# S5: r^2 = 0.19787113965189784, MSE =  4113.258264053267\n",
    "# S4: r^2 = 0.1088686553962428, MSE = 4569.656508752965\n",
    "# BMI: r^2 = 0.19057346847560142, MSE = 4150.6801893299835\n",
    "# BP: r^2 = 0.18725935383524017, MSE = 4167.674727372873\n",
    "# S6: r^2 =  0.14792764300640981, MSE = 4369.364870445186\n",
    "\n",
    "# Wysoki współczynnik zmiennych nie zawsze przekłada się na lepszy wynik modelu predykcyjnego"
   ]
  },
  {
   "cell_type": "markdown",
   "id": "168d1048-2945-4779-bb1c-bf72df94c007",
   "metadata": {},
   "source": [
    "### Porównywanie modeli - Jeden atrybut vs wszystkie atrybuty"
   ]
  },
  {
   "cell_type": "code",
   "execution_count": 114,
   "id": "2e635352-e35e-4c62-bc64-9198c6a72a51",
   "metadata": {},
   "outputs": [
    {
     "data": {
      "image/png": "[encoded data removed]",
      "text/plain": [
       "<Figure size 1200x600 with 2 Axes>"
      ]
     },
     "metadata": {},
     "output_type": "display_data"
    }
   ],
   "source": [
    "df_compare = pd.DataFrame([[task_r_score, task_model_mse],[all_r_score, all_model_mse]], columns=['R^2', 'MSE'], index=['Jedna cecha', 'Wszystkie cechy'])\n",
    "df_compare\n",
    "\n",
    "#df_compare['R^2'].plot.bar()\n",
    "colors = ['skyblue', 'salmon']\n",
    "fig, axes = plt.subplots(nrows=1, ncols=2, figsize=(12, 6))\n",
    "\n",
    "ax1 = axes[0].bar(df_compare.index, df_compare['R^2'], color=colors)\n",
    "axes[0].set_title('Współczynnik zmiennych')\n",
    "axes[0].set_ylabel('R^2 (Więcej = Lepiej)')\n",
    "\n",
    "axes[1].bar(df_compare.index, df_compare['MSE'], color=colors)\n",
    "axes[1].set_title('MSE (Błąd średniokwadratowy)')\n",
    "axes[1].set_ylabel('MSE (Mniej = Lepiej)')\n",
    "axes[1].yaxis.set_label_position('right')\n",
    "axes[1].yaxis.tick_right()\n",
    "\n",
    "fig.legend([ax1[0], ax1[1]], ['Jedna cecha', 'Wszystkie cechy'], loc='upper center')\n",
    "plt.show()\n",
    "plt.close()"
   ]
  },
  {
   "cell_type": "code",
   "execution_count": 129,
   "id": "4ec7fde9-75ce-41fc-a06e-a2b34c78eace",
   "metadata": {},
   "outputs": [
    {
     "data": {
      "image/png": "[encoded data removed]",
      "text/plain": [
       "<Figure size 1200x600 with 2 Axes>"
      ]
     },
     "metadata": {},
     "output_type": "display_data"
    }
   ],
   "source": [
    "fig, axes = plt.subplots(nrows=2, ncols=1, figsize=(12,6))\n",
    "\n",
    "axes[0].scatter(y_test_task, task_predicted)\n",
    "axes[0].plot(y_test_task, y_test_task, color='red', linewidth=3)\n",
    "\n",
    "axes[1].scatter(y_test_all, all_model_predicted, color='orange')\n",
    "axes[1].plot(y_test_all, y_test_all, linewidth=3)\n",
    "\n",
    "plt.show()\n",
    "plt.close()"
   ]
  }
 ],
 "metadata": {
  "kernelspec": {
   "display_name": "Python 3 (ipykernel)",
   "language": "python",
   "name": "python3"
  },
  "language_info": {
   "codemirror_mode": {
    "name": "ipython",
    "version": 3
   },
   "file_extension": ".py",
   "mimetype": "text/x-python",
   "name": "python",
   "nbconvert_exporter": "python",
   "pygments_lexer": "ipython3",
   "version": "3.12.11"
  }
 },
 "nbformat": 4,
 "nbformat_minor": 5
}
