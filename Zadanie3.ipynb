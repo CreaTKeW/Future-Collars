{
 "cells": [
  {
   "cell_type": "markdown",
   "id": "b5ef64ad-25c5-4eb5-91f4-cf6789cdbdd9",
   "metadata": {},
   "source": [
    "## Zadanie 3.\n",
    "\n",
    "Napisz funkcję, która posortuje listę liczb w porządku niemalejącym."
   ]
  },
  {
   "cell_type": "code",
   "execution_count": 48,
   "id": "fa3e4d79-f18d-4bd4-949a-5e0bc5f93ffc",
   "metadata": {},
   "outputs": [
    {
     "name": "stdout",
     "output_type": "stream",
     "text": [
      "[1, 2, 4, 5, 8, 14, 15, 16, 23, 42, 65, 99]\n"
     ]
    }
   ],
   "source": [
    "def ascending_list(numbers_list:list) -> list:\n",
    "    #sorted_list = sorted(numbers_list)\n",
    "    numbers_list.sort()\n",
    "    return numbers_list\n",
    "\n",
    "example_list = [42, 8, 15, 23, 4, 16, 99, 5, 1, 14, 65, 2]\n",
    "ascending_list(example_list)\n",
    "print(example_list)"
   ]
  }
 ],
 "metadata": {
  "kernelspec": {
   "display_name": "Python 3 (ipykernel)",
   "language": "python",
   "name": "python3"
  },
  "language_info": {
   "codemirror_mode": {
    "name": "ipython",
    "version": 3
   },
   "file_extension": ".py",
   "mimetype": "text/x-python",
   "name": "python",
   "nbconvert_exporter": "python",
   "pygments_lexer": "ipython3",
   "version": "3.12.9"
  }
 },
 "nbformat": 4,
 "nbformat_minor": 5
}
