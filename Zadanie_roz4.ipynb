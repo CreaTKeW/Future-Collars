{
 "cells": [
  {
   "cell_type": "markdown",
   "id": "43c59287-4588-47d0-ba37-15baf53ee64e",
   "metadata": {},
   "source": [
    "## Zadanie 4.\n",
    "\n",
    "Zaimplementuj klasę bazowa *Figura*. Klasa będzie miec metody obliczajace pole i obwod.\n",
    "Stworz klasy reprezentujace trójkat i prostokat, implementujace odpowiednio obie metody."
   ]
  },
  {
   "cell_type": "code",
   "execution_count": 43,
   "id": "e6ea7524-7bd5-4fc8-ae1a-b2e436d53746",
   "metadata": {},
   "outputs": [],
   "source": [
    "class Figura():\n",
    "    def oblicz_pole(self):\n",
    "        raise NotImplementedError(\"Klasa pochodna musi zaimplementować tę metodę.\")\n",
    "    def oblicz_obwod(self):\n",
    "        raise NotImplementedError(\"Klasa pochodna musi zaimplementować tę metodę.\")"
   ]
  },
  {
   "cell_type": "code",
   "execution_count": 44,
   "id": "7631ff07-ba6c-4e3c-a4cd-83a25c1451a0",
   "metadata": {},
   "outputs": [],
   "source": [
    "class Trojkat(Figura):\n",
    "    def __init__(self, a, h):\n",
    "        #super().__init__()\n",
    "        self.a = a\n",
    "        self.h = h\n",
    "        \n",
    "    def oblicz_pole(self):\n",
    "        pole = (self.a * self.h) / 2\n",
    "        return pole\n",
    "\n",
    "    def oblicz_obwod(self):\n",
    "        obwod = self.a * 3\n",
    "        return obwod\n",
    "\n",
    "class Prostokat(Figura):\n",
    "    def __init__(self, a, b):\n",
    "        #super().__init__()\n",
    "        self.a = a\n",
    "        self.b = b\n",
    "\n",
    "    def oblicz_pole(self):\n",
    "        pole = self.a * self.b\n",
    "        return pole\n",
    "\n",
    "    def oblicz_obwod(self):\n",
    "        obwod = (self.a + self.b) * 2\n",
    "        return obwod"
   ]
  },
  {
   "cell_type": "code",
   "execution_count": 45,
   "id": "92b653da-e16c-4c99-b255-67e540f73169",
   "metadata": {},
   "outputs": [
    {
     "name": "stdout",
     "output_type": "stream",
     "text": [
      "Pole trójkąta: 7.5\n",
      "Obwód trójkąta równobocznego: 9\n"
     ]
    }
   ],
   "source": [
    "trojkat = Trojkat(3, 5)\n",
    "print(f'Pole trójkąta: {trojkat.oblicz_pole()}')\n",
    "print(f'Obwód trójkąta równobocznego: {trojkat.oblicz_obwod()}')"
   ]
  },
  {
   "cell_type": "code",
   "execution_count": 46,
   "id": "3972e98d-a81d-4c0f-93b1-5c58cc8b6603",
   "metadata": {},
   "outputs": [
    {
     "name": "stdout",
     "output_type": "stream",
     "text": [
      "Pole prostokąta: 50\n",
      "Obwód prosotkąta: 30\n"
     ]
    }
   ],
   "source": [
    "prostokat = Prostokat(5, 10)\n",
    "print(f'Pole prostokąta: {prostokat.oblicz_pole()}')\n",
    "print(f'Obwód prosotkąta: {prostokat.oblicz_obwod()}')"
   ]
  }
 ],
 "metadata": {
  "kernelspec": {
   "display_name": "Python 3 (ipykernel)",
   "language": "python",
   "name": "python3"
  },
  "language_info": {
   "codemirror_mode": {
    "name": "ipython",
    "version": 3
   },
   "file_extension": ".py",
   "mimetype": "text/x-python",
   "name": "python",
   "nbconvert_exporter": "python",
   "pygments_lexer": "ipython3",
   "version": "3.12.9"
  }
 },
 "nbformat": 4,
 "nbformat_minor": 5
}
