{
 "cells": [
  {
   "cell_type": "markdown",
   "id": "d9534603-4108-4a2a-a9b4-b1246d22c7f6",
   "metadata": {},
   "source": [
    "## Zadanie 15.\n",
    "\n",
    "Napisz funkcję przyjmujaca jeden parametr **`list`** zawierajacy liczby całkowite i zwracajaca element, który pojawia się na liscie najczęciej."
   ]
  },
  {
   "cell_type": "code",
   "execution_count": 3,
   "id": "df97ed30-13fb-45a2-9488-b51c430e0830",
   "metadata": {},
   "outputs": [
    {
     "name": "stdout",
     "output_type": "stream",
     "text": [
      "Najczęściej pojawiający się element z listy: 7\n"
     ]
    }
   ],
   "source": [
    "def most_count_number(list_a: list) -> int:\n",
    "    counter = {}\n",
    "    for number in list_a:\n",
    "        # Szukamy klucza w słowniku o nazwie number , jeżeli nie istnieje to tworzymy z domyślną wartością 0 oraz inkrementujemy\n",
    "        counter[number] = counter.get(number, 0) + 1\n",
    "\n",
    "    # Spośród wszystkich kluczy w słowniku pobieramy i zapisujemy największą wartość\n",
    "    most_occuring_number = max(counter, key=counter.get)\n",
    "    return most_occuring_number\n",
    "\n",
    "list_a = [4, 11, 2, 7, 15, 7, 25, 7, 11, 1, 7, 15, 4, 7, 15, 7, 4, 7, 7, 7, 11, 4, 7]\n",
    "output = most_count_number(list_a)\n",
    "print(f\"Najczęściej pojawiający się element z listy: {output}\")"
   ]
  }
 ],
 "metadata": {
  "kernelspec": {
   "display_name": "Python 3 (ipykernel)",
   "language": "python",
   "name": "python3"
  },
  "language_info": {
   "codemirror_mode": {
    "name": "ipython",
    "version": 3
   },
   "file_extension": ".py",
   "mimetype": "text/x-python",
   "name": "python",
   "nbconvert_exporter": "python",
   "pygments_lexer": "ipython3",
   "version": "3.12.9"
  }
 },
 "nbformat": 4,
 "nbformat_minor": 5
}
