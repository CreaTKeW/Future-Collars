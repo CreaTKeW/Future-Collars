{
 "cells": [
  {
   "cell_type": "markdown",
   "id": "7b269b3c-f03e-4aba-86d2-7efe2ad00b83",
   "metadata": {},
   "source": [
    "## Zadanie 4.\n",
    "\n",
    "Napisz funkcję, która dla dwóch list liczbowych zwróci listę zawierającą tylko te elementy, które należą do obydwu list wejściowych."
   ]
  },
  {
   "cell_type": "code",
   "execution_count": 2,
   "id": "cbcbf5b9-ac75-4f52-8ab5-09747fe54c8d",
   "metadata": {},
   "outputs": [
    {
     "name": "stdout",
     "output_type": "stream",
     "text": [
      "Wspólne elementy dwóch list: [19, 12, 5]\n"
     ]
    }
   ],
   "source": [
    "def equal_numbers(list_a: list, list_b: list) -> list:\n",
    "\n",
    "    set_a = set(list_a)\n",
    "    set_b = set(list_b)\n",
    "\n",
    "    equal_list = list(set_a & set_b)\n",
    "    return equal_list\n",
    "\n",
    "list_a = [12, 5, 23, 8, 19, 5, 1]\n",
    "list_b = [7, 19, 3, 12, 9, 5]\n",
    "\n",
    "output = equal_numbers(list_a, list_b)\n",
    "print(f'Wspólne elementy dwóch list: {output}')"
   ]
  },
  {
   "cell_type": "code",
   "execution_count": 8,
   "id": "87b977c4-cc41-4b56-a69c-7b01eacfdac9",
   "metadata": {},
   "outputs": [
    {
     "name": "stdout",
     "output_type": "stream",
     "text": [
      "Wspólne elementy dwóch list: [12, 5, 19]\n"
     ]
    }
   ],
   "source": [
    "def equal_numbers(list_a: list, list_b: list) -> list:\n",
    "    equal_list = []\n",
    "    known_numbers = set()\n",
    "    set_b = set(list_b)\n",
    "    \n",
    "    for n in list_a:\n",
    "        if n in set_b and n not in known_numbers:\n",
    "            equal_list.append(n)\n",
    "            known_numbers.add(n)\n",
    "    return equal_list\n",
    "\n",
    "list_a = [12, 5, 23, 8, 19, 5, 1]\n",
    "list_b = [7, 19, 3, 12, 9, 5]\n",
    "\n",
    "output = equal_numbers(list_a, list_b)\n",
    "print(f'Wspólne elementy dwóch list: {output}')"
   ]
  }
 ],
 "metadata": {
  "kernelspec": {
   "display_name": "Python 3 (ipykernel)",
   "language": "python",
   "name": "python3"
  },
  "language_info": {
   "codemirror_mode": {
    "name": "ipython",
    "version": 3
   },
   "file_extension": ".py",
   "mimetype": "text/x-python",
   "name": "python",
   "nbconvert_exporter": "python",
   "pygments_lexer": "ipython3",
   "version": "3.12.9"
  }
 },
 "nbformat": 4,
 "nbformat_minor": 5
}
