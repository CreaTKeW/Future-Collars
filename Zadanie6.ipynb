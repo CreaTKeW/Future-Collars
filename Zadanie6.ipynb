{
 "cells": [
  {
   "cell_type": "markdown",
   "id": "b790df09-5b82-4c83-9442-ec9d83b4ca48",
   "metadata": {},
   "source": [
    "## Zadanie 6.\n",
    "\n",
    "Wybierz kilka państw i stwórz dla każdego słownik, który będzie zawierać dane o nazwie państwa, powierzchni, liczbie mieszkańców, PKB per capita (PPP). Napisz funkcję, która dla listy słowników będzie wypisywać listę państw uszeregowanych według:\n",
    "* powierzchni\n",
    "* liczby ludności\n",
    "* gęstości zaludnienia\n",
    "* PKB per capita (PPP)"
   ]
  },
  {
   "cell_type": "code",
   "execution_count": 1,
   "id": "875d36f6-2d5a-4769-a656-60e2485d2b1a",
   "metadata": {},
   "outputs": [
    {
     "name": "stdout",
     "output_type": "stream",
     "text": [
      "\n",
      "[{'Country': 'France', 'Area': 551695, 'Population': 68.29, 'PKB': 3052}, {'Country': 'Germany', 'Area': 357592, 'Population': 83.28, 'PKB': 4526}, {'Country': 'Poland', 'Area': 322575, 'Population': 36.69, 'PKB': 809.2}, {'Country': 'Czech', 'Area': 78871, 'Population': 10.86, 'PKB': 343.2}, {'Country': 'Slovakia', 'Area': 49035, 'Population': 5.427, 'PKB': 132.9}]\n",
      "\n",
      "[{'Country': 'Germany', 'Area': 357592, 'Population': 83.28, 'PKB': 4526}, {'Country': 'France', 'Area': 551695, 'Population': 68.29, 'PKB': 3052}, {'Country': 'Poland', 'Area': 322575, 'Population': 36.69, 'PKB': 809.2}, {'Country': 'Czech', 'Area': 78871, 'Population': 10.86, 'PKB': 343.2}, {'Country': 'Slovakia', 'Area': 49035, 'Population': 5.427, 'PKB': 132.9}]\n",
      "\n",
      "[{'Country': 'Germany', 'Area': 357592, 'Population': 83.28, 'PKB': 4526}, {'Country': 'Czech', 'Area': 78871, 'Population': 10.86, 'PKB': 343.2}, {'Country': 'France', 'Area': 551695, 'Population': 68.29, 'PKB': 3052}, {'Country': 'Poland', 'Area': 322575, 'Population': 36.69, 'PKB': 809.2}, {'Country': 'Slovakia', 'Area': 49035, 'Population': 5.427, 'PKB': 132.9}]\n",
      "\n",
      "[{'Country': 'Germany', 'Area': 357592, 'Population': 83.28, 'PKB': 4526}, {'Country': 'France', 'Area': 551695, 'Population': 68.29, 'PKB': 3052}, {'Country': 'Poland', 'Area': 322575, 'Population': 36.69, 'PKB': 809.2}, {'Country': 'Czech', 'Area': 78871, 'Population': 10.86, 'PKB': 343.2}, {'Country': 'Slovakia', 'Area': 49035, 'Population': 5.427, 'PKB': 132.9}]\n"
     ]
    }
   ],
   "source": [
    "def sort_countries(countries_list: list) -> list: \n",
    "    list_by_area = sorted(countries_list, key=lambda country: country['Area'], reverse=True)\n",
    "    list_by_population = sorted(countries_list, key=lambda country: country['Population'],  reverse=True)\n",
    "    list_by_density = sorted(countries_list, key=lambda country: country['Population']/country['Area'], reverse=True)\n",
    "    list_by_pkb = sorted(countries_list, key=lambda country: country['PKB'], reverse=True)\n",
    "    \n",
    "    return list_by_area, list_by_population, list_by_density, list_by_pkb\n",
    "\n",
    "countries_info = [\n",
    "    {'Country': 'Poland', 'Area': 322575, 'Population': 36.69, 'PKB': 809.2},\n",
    "    {'Country': 'Germany', 'Area': 357592, 'Population': 83.28,'PKB': 4526},\n",
    "    {'Country': 'France', 'Area': 551695, 'Population': 68.29, 'PKB': 3052},\n",
    "    {'Country': 'Czech','Area': 78871,'Population': 10.86,'PKB': 343.2},\n",
    "    {'Country': 'Slovakia','Area': 49035,'Population': 5.427,'PKB': 132.9}\n",
    "]\n",
    "\n",
    "lists = sort_countries(countries_info)\n",
    "for l in lists:\n",
    "    print(f'\\n{l}')"
   ]
  }
 ],
 "metadata": {
  "kernelspec": {
   "display_name": "Python 3 (ipykernel)",
   "language": "python",
   "name": "python3"
  },
  "language_info": {
   "codemirror_mode": {
    "name": "ipython",
    "version": 3
   },
   "file_extension": ".py",
   "mimetype": "text/x-python",
   "name": "python",
   "nbconvert_exporter": "python",
   "pygments_lexer": "ipython3",
   "version": "3.12.9"
  }
 },
 "nbformat": 4,
 "nbformat_minor": 5
}
