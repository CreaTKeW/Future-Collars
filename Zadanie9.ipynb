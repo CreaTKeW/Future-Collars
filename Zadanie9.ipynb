{
 "cells": [
  {
   "cell_type": "markdown",
   "id": "568b8a07-77ca-49a9-bf50-070a6900dd15",
   "metadata": {},
   "source": [
    "## Zadanie 9.\n",
    "\n",
    "Używajac zagnieżdżonych pętli, stwórz funkcję, która wydrukuje następujcy wzór:"
   ]
  },
  {
   "cell_type": "raw",
   "id": "ac2a3c5c-b379-49d3-8214-72a06c4c445d",
   "metadata": {},
   "source": [
    "* \n",
    "* $ \n",
    "* $ * \n",
    "* $ * $ \n",
    "* $ * $ * \n",
    "* $ * $ \n",
    "* $ * \n",
    "* $ \n",
    "*"
   ]
  },
  {
   "cell_type": "code",
   "execution_count": 57,
   "id": "cbe0a1f6-c211-4fd8-a388-0135a94ff1fe",
   "metadata": {},
   "outputs": [
    {
     "name": "stdout",
     "output_type": "stream",
     "text": [
      "* \n",
      "* $ \n",
      "* $ * \n",
      "* $ * $ \n",
      "* $ * $ * \n",
      "* $ * $ \n",
      "* $ * \n",
      "* $ \n",
      "* \n"
     ]
    }
   ],
   "source": [
    "for i in range(5):\n",
    "    for j in range(i + 1):\n",
    "        if j % 2 == 0:\n",
    "            print(\"*\", end=' ')\n",
    "        else:\n",
    "            print(\"$\", end=' ')\n",
    "    print()\n",
    "\n",
    "for i in range(4, 0, -1):\n",
    "    for j in range(i):\n",
    "        if j % 2 == 0:\n",
    "            print(\"*\", end=' ')\n",
    "        else:\n",
    "            print(\"$\", end=' ')\n",
    "    print()"
   ]
  }
 ],
 "metadata": {
  "kernelspec": {
   "display_name": "Python 3 (ipykernel)",
   "language": "python",
   "name": "python3"
  },
  "language_info": {
   "codemirror_mode": {
    "name": "ipython",
    "version": 3
   },
   "file_extension": ".py",
   "mimetype": "text/x-python",
   "name": "python",
   "nbconvert_exporter": "python",
   "pygments_lexer": "ipython3",
   "version": "3.12.9"
  }
 },
 "nbformat": 4,
 "nbformat_minor": 5
}
