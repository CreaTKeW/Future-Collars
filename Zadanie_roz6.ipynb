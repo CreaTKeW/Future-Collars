{
 "cells": [
  {
   "cell_type": "markdown",
   "id": "787cba42-5c7c-4f9e-bbaa-893bead0378b",
   "metadata": {
    "editable": true,
    "slideshow": {
     "slide_type": ""
    },
    "tags": []
   },
   "source": [
    "## Zadanie 6.\n",
    "\n",
    "Stwórz klasę reprezentujaca wielokat, i przyjmujaca w konstruktorze listę kolejnych linii (obiekty klasy z poprzedniego zadania), reprezentujacych kolejne boki wielokata.\n",
    "Klasa powinna sprawdzic czy dane sa poprawne (czy każda linia kończy się tam gdzie zaczyna następna).\n",
    "Klasa wielokata implementuje również metodę obliczajaca obwód."
   ]
  },
  {
   "cell_type": "code",
   "execution_count": 1,
   "id": "8051f00f-aab9-4649-ae23-6bc4012176bd",
   "metadata": {
    "editable": true,
    "slideshow": {
     "slide_type": ""
    },
    "tags": []
   },
   "outputs": [],
   "source": [
    "import math\n",
    "\n",
    "class Prosta():\n",
    "    def __init__(self, x1, y1, x2, y2):\n",
    "        self.x1 = x1\n",
    "        self.y1 = y1\n",
    "        self.x2 = x2\n",
    "        self.y2 = y2\n",
    "\n",
    "    def oblicz_dlugosc(self):\n",
    "        length = math.sqrt(math.pow(self.x1 - self.x2, 2) + math.pow(self.y1 - self.y2, 2))\n",
    "        return length"
   ]
  },
  {
   "cell_type": "code",
   "execution_count": 2,
   "id": "a7febb2d-fa7b-4d10-a1a0-eb12bc752fa1",
   "metadata": {
    "editable": true,
    "slideshow": {
     "slide_type": ""
    },
    "tags": []
   },
   "outputs": [],
   "source": [
    "class Wielokat(Prosta):\n",
    "    def __init__(self, linie: list[Prosta]):\n",
    "        #super().__init__()\n",
    "        self.linie = linie\n",
    "        \n",
    "        for i in range(len(self.linie)):\n",
    "            if i == len(self.linie) - 1:\n",
    "                if self.linie[i].x2 == self.linie[0].x1 and self.linie[i].y2 == self.linie[0].y1:\n",
    "                    print(\"Ostatnia prosta jest zgodna.\")\n",
    "                else:\n",
    "                    return \"Ostatnie współrzędne muszą być zgodne z początkowymi.\"\n",
    "            else:\n",
    "                if self.linie[i].x2 == self.linie[i+1].x1 and self.linie[i].y2 == self.linie[i+1].y1:\n",
    "                    print(f\"Prosta {i + 1} jest zgodna.\")\n",
    "                else:\n",
    "                    return \"Wsółrzędne na końcu prostej muszą być zgodne z początkowymi następnej.\"\n",
    "        \n",
    "    def oblicz_obwod(self):\n",
    "        obwod = 0\n",
    "        if len(self.linie) < 3:\n",
    "            return \"Minimalna ilość prostych w wielokącie musi wynosić 3.\"\n",
    "        else:\n",
    "            for l in self.linie:\n",
    "                obwod += l.oblicz_dlugosc()\n",
    "            return obwod"
   ]
  },
  {
   "cell_type": "code",
   "execution_count": 3,
   "id": "0908453f-8603-4ca3-8755-3c0a0b8f24f4",
   "metadata": {},
   "outputs": [
    {
     "name": "stdout",
     "output_type": "stream",
     "text": [
      "Prosta 1 jest zgodna.\n",
      "Prosta 2 jest zgodna.\n",
      "Ostatnia prosta jest zgodna.\n",
      "25.89\n"
     ]
    }
   ],
   "source": [
    "tri1 = Prosta(0, 0, 4, 8)\n",
    "tri2 = Prosta(4, 8, 8, 0)\n",
    "tri3 = Prosta(8, 0, 0, 0)\n",
    "\n",
    "triangle = Wielokat([tri1, tri2, tri3])\n",
    "tri_output = triangle.oblicz_obwod()\n",
    "print(round(tri_output,2))"
   ]
  },
  {
   "cell_type": "code",
   "execution_count": 4,
   "id": "80e9988e-a4ca-46bc-992c-9732818bdd1f",
   "metadata": {},
   "outputs": [
    {
     "name": "stdout",
     "output_type": "stream",
     "text": [
      "Prosta 1 jest zgodna.\n",
      "Prosta 2 jest zgodna.\n",
      "Prosta 3 jest zgodna.\n",
      "Ostatnia prosta jest zgodna.\n",
      "20.0\n"
     ]
    }
   ],
   "source": [
    "sqr1 = Prosta(5, 5, 5, 10)\n",
    "sqr2 = Prosta(5, 10, 10, 10)\n",
    "sqr3 = Prosta(10, 10, 10, 5)\n",
    "sqr4 = Prosta(10, 5, 5, 5)\n",
    "\n",
    "square = Wielokat([sqr1, sqr2, sqr3, sqr4])\n",
    "square_output = square.oblicz_obwod()\n",
    "print(round(square_output, 2))"
   ]
  },
  {
   "cell_type": "code",
   "execution_count": 5,
   "id": "89088a5a-4dc7-40c5-a4fe-0517b5e09331",
   "metadata": {},
   "outputs": [],
   "source": [
    "# l = [1, 2, 3, 4, 5]\n",
    "\n",
    "# for idx, i in enumerate(l):\n",
    "#     print(idx, i)"
   ]
  }
 ],
 "metadata": {
  "kernelspec": {
   "display_name": "Python 3 (ipykernel)",
   "language": "python",
   "name": "python3"
  },
  "language_info": {
   "codemirror_mode": {
    "name": "ipython",
    "version": 3
   },
   "file_extension": ".py",
   "mimetype": "text/x-python",
   "name": "python",
   "nbconvert_exporter": "python",
   "pygments_lexer": "ipython3",
   "version": "3.12.9"
  }
 },
 "nbformat": 4,
 "nbformat_minor": 5
}
