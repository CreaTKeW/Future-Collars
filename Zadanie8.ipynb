{
 "cells": [
  {
   "cell_type": "markdown",
   "id": "9f645138-1439-4d93-9e54-4bf4551b0679",
   "metadata": {},
   "source": [
    "## Zadanie 8.\n",
    "\n",
    "Napisz funkcję, która sprawdzi czy 2 napisy sa palindromami."
   ]
  },
  {
   "cell_type": "code",
   "execution_count": 1,
   "id": "14c7f1a1-5bbf-4100-85a9-fa20f3fe3c8b",
   "metadata": {},
   "outputs": [
    {
     "name": "stdin",
     "output_type": "stream",
     "text": [
      "Podaj pierwszy napis:  Kobyła ma mały bok\n",
      "Podaj drugi napis:  Radar\n"
     ]
    },
    {
     "name": "stdout",
     "output_type": "stream",
     "text": [
      "Czy wprowadzone napisy są palindromami: True\n"
     ]
    }
   ],
   "source": [
    "def check_palindrome(first_word: str, second_word: str) -> bool:\n",
    "    \n",
    "    first_word = first_word.strip().replace(' ', '').lower()\n",
    "    second_word = second_word.strip().replace(' ', '').lower()\n",
    "\n",
    "    if first_word == first_word[::-1] and second_word == second_word[::-1]:\n",
    "        return True\n",
    "    else:\n",
    "        return False\n",
    "\n",
    "fw = input('Podaj pierwszy napis: ')\n",
    "sw = input('Podaj drugi napis: ')\n",
    "\n",
    "output = check_palindrome(fw, sw)\n",
    "print(f\"Czy wprowadzone napisy są palindromami: {output}\")"
   ]
  }
 ],
 "metadata": {
  "kernelspec": {
   "display_name": "Python 3 (ipykernel)",
   "language": "python",
   "name": "python3"
  },
  "language_info": {
   "codemirror_mode": {
    "name": "ipython",
    "version": 3
   },
   "file_extension": ".py",
   "mimetype": "text/x-python",
   "name": "python",
   "nbconvert_exporter": "python",
   "pygments_lexer": "ipython3",
   "version": "3.12.9"
  }
 },
 "nbformat": 4,
 "nbformat_minor": 5
}
